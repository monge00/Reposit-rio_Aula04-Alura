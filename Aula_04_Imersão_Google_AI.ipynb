{
  "nbformat": 4,
  "nbformat_minor": 0,
  "metadata": {
    "colab": {
      "provenance": [],
      "authorship_tag": "ABX9TyP1D6CTdo0BRQia0yPpel/D",
      "include_colab_link": true
    },
    "kernelspec": {
      "name": "python3",
      "display_name": "Python 3"
    },
    "language_info": {
      "name": "python"
    }
  },
  "cells": [
    {
      "cell_type": "markdown",
      "metadata": {
        "id": "view-in-github",
        "colab_type": "text"
      },
      "source": [
        "<a href=\"https://colab.research.google.com/github/monge00/Reposit-rio_Aula04-Alura/blob/main/Aula_04_Imers%C3%A3o_Google_AI.ipynb\" target=\"_parent\"><img src=\"https://colab.research.google.com/assets/colab-badge.svg\" alt=\"Open In Colab\"/></a>"
      ]
    },
    {
      "cell_type": "markdown",
      "source": [
        "https://colab.research.google.com/github/google/generative-ai-docs/blob/main/site/en/tutorials/quickstart_colab.ipynb?hl=pt-br#scrollTo=kHkHARdb1ZID"
      ],
      "metadata": {
        "id": "6w0drw5a4UH8"
      }
    },
    {
      "cell_type": "code",
      "execution_count": null,
      "metadata": {
        "id": "J6Pd9SFJ1yVi"
      },
      "outputs": [],
      "source": [
        "!pip install -q -U google-generativeai"
      ]
    },
    {
      "cell_type": "code",
      "source": [
        "# Import the Python SDK\n",
        "import google.generativeai as genai\n",
        "from google.colab import userdata\n",
        "my_g_api_key = userdata.get('SECRET_APIKEY')\n",
        "genai.configure(api_key=my_g_api_key)"
      ],
      "metadata": {
        "id": "Jhcyue4-48u8"
      },
      "execution_count": 20,
      "outputs": []
    },
    {
      "cell_type": "code",
      "source": [
        "#listar os modelos disponíveis:\n",
        "for m in genai.list_models():\n",
        "  if 'generateContent' in m.supported_generation_methods:\n",
        "    print(m.name)\n"
      ],
      "metadata": {
        "colab": {
          "base_uri": "https://localhost:8080/",
          "height": 139
        },
        "id": "9Vz3fJe15UEB",
        "outputId": "4edd1328-bf74-4027-bc95-9e7873668887"
      },
      "execution_count": null,
      "outputs": [
        {
          "output_type": "stream",
          "name": "stdout",
          "text": [
            "models/gemini-1.0-pro\n",
            "models/gemini-1.0-pro-001\n",
            "models/gemini-1.0-pro-latest\n",
            "models/gemini-1.0-pro-vision-latest\n",
            "models/gemini-1.5-pro-latest\n",
            "models/gemini-pro\n",
            "models/gemini-pro-vision\n"
          ]
        }
      ]
    },
    {
      "cell_type": "code",
      "source": [
        "generation_config = {\n",
        "    'candidate_count': 1,\n",
        "    'temperature': 0.5,\n",
        "}"
      ],
      "metadata": {
        "id": "G022Ahp2GAFx"
      },
      "execution_count": null,
      "outputs": []
    },
    {
      "cell_type": "code",
      "source": [
        "safety_settings = {\n",
        "    'HARASSMENT': 'BLOCK_NONE',\n",
        "    'HATE':'BLOCK_NONE',\n",
        "    'SEXUAL':'BLOCK_NONE',\n",
        "    'DANGEROUS':'BLOCK_NONE',\n",
        "\n",
        "}"
      ],
      "metadata": {
        "id": "knbircrFG0FK"
      },
      "execution_count": null,
      "outputs": []
    },
    {
      "cell_type": "code",
      "source": [
        "#Initialize the Generative Model\n",
        "model = genai.GenerativeModel(model_name='gemini-1.0-pro',\n",
        "                              generation_config=generation_config,\n",
        "                              safety_settings=safety_settings)\n"
      ],
      "metadata": {
        "id": "YCYY25q8Cyea"
      },
      "execution_count": null,
      "outputs": []
    },
    {
      "cell_type": "code",
      "source": [
        "#Generate Text\n",
        "response = model.generate_content('Me fale sobre a história da empresa SBM')\n",
        "print(response.text)"
      ],
      "metadata": {
        "colab": {
          "base_uri": "https://localhost:8080/",
          "height": 503
        },
        "collapsed": true,
        "id": "Kyzc_p9157q5",
        "outputId": "03ef867b-5d62-4f7d-b1d0-b66308ece3c7"
      },
      "execution_count": null,
      "outputs": [
        {
          "output_type": "stream",
          "name": "stdout",
          "text": [
            "**Início (1962-1970)**\n",
            "\n",
            "* 1962: Fundada na Holanda como Steel Building Manufacturers (SBM) por dois irmãos, Dirk e Wim de Jong.\n",
            "* Inicialmente focada na fabricação e montagem de estruturas de aço para edifícios industriais.\n",
            "\n",
            "**Expansão (1970-1990)**\n",
            "\n",
            "* Década de 1970: Expansão para outros países europeus, incluindo Alemanha, Bélgica e França.\n",
            "* Década de 1980: Aquisição de empresas concorrentes e expansão para os Estados Unidos.\n",
            "* 1989: Abertura de capital na Bolsa de Valores de Amsterdã.\n",
            "\n",
            "**Crescimento Global (1990-2010)**\n",
            "\n",
            "* Década de 1990: Aquisições e investimentos em joint ventures na Ásia, América Latina e Oriente Médio.\n",
            "* 2005: Aquisição da IHC Caland, uma empresa holandesa especializada em equipamentos offshore.\n",
            "* 2007: Aquisição da IHC Gusto, outra empresa holandesa especializada em design e construção de navios offshore.\n",
            "\n",
            "**Reestruturação e Foco em Offshore (2010-Presente)**\n",
            "\n",
            "* 2015: Reestruturação para se concentrar em atividades offshore.\n",
            "* 2017: Aquisição da Agility Offshore, uma empresa americana especializada em serviços de acomodação offshore.\n",
            "* 2021: Aquisição da Icon Engineering, uma empresa americana especializada em projetos de engenharia offshore.\n",
            "\n",
            "**Atualidade**\n",
            "\n",
            "* A SBM é uma das maiores empresas de serviços offshore do mundo.\n",
            "* Oferece uma ampla gama de serviços, incluindo projetos de engenharia, fabricação, instalação e manutenção de sistemas de produção offshore.\n",
            "* A empresa tem sede em Amsterdã, Holanda, e opera em mais de 50 países.\n"
          ]
        }
      ]
    },
    {
      "cell_type": "code",
      "source": [
        "chat = model.start_chat(history=[])"
      ],
      "metadata": {
        "id": "aR6trQ8rMeDQ"
      },
      "execution_count": null,
      "outputs": []
    },
    {
      "cell_type": "code",
      "source": [
        "prompt = input ('Esperando o prompt: ')\n",
        "while prompt != 'fim':\n",
        "  response = chat.send_message(prompt)\n",
        "  print('Resposta', response.text, '\\n')\n",
        "  prompt = input ('Esperando o prompt: ')"
      ],
      "metadata": {
        "colab": {
          "base_uri": "https://localhost:8080/",
          "height": 1000
        },
        "id": "IKoScX9JM3xw",
        "outputId": "d5d75eaf-6670-4339-902f-ddc082175f9c"
      },
      "execution_count": null,
      "outputs": [
        {
          "name": "stdout",
          "output_type": "stream",
          "text": [
            "Esperando o prompt: Quais são os principais comandos Linux CLI?\n",
            "Resposta **Comandos de Navegação:**\n",
            "\n",
            "* `cd`: Muda o diretório atual\n",
            "* `ls`: Lista os arquivos e diretórios no diretório atual\n",
            "* `pwd`: Imprime o caminho do diretório de trabalho atual\n",
            "* `mkdir`: Cria um novo diretório\n",
            "* `rmdir`: Remove um diretório vazio\n",
            "* `mv`: Move ou renomeia arquivos ou diretórios\n",
            "* `cp`: Copia arquivos ou diretórios\n",
            "* `rm`: Remove arquivos ou diretórios\n",
            "\n",
            "**Comandos de Gerenciamento de Arquivos:**\n",
            "\n",
            "* `cat`: Concatena e imprime o conteúdo de um arquivo\n",
            "* `head`: Imprime as primeiras linhas de um arquivo\n",
            "* `tail`: Imprime as últimas linhas de um arquivo\n",
            "* `grep`: Pesquisa um padrão em um arquivo\n",
            "* `sed`: Realiza operações de pesquisa e substituição em arquivos\n",
            "* `awk`: Analisa e processa dados em arquivos\n",
            "\n",
            "**Comandos de Processo:**\n",
            "\n",
            "* `ps`: Lista os processos em execução\n",
            "* `kill`: Termina um processo\n",
            "* `top`: Monitora os processos em execução\n",
            "* `nice`: Altera a prioridade de um processo\n",
            "* `renice`: Altera a prioridade de um processo em execução\n",
            "* `bg`: Envia um processo para o fundo\n",
            "* `fg`: Traz um processo em segundo plano para o primeiro plano\n",
            "\n",
            "**Comandos de Rede:**\n",
            "\n",
            "* `ping`: Testa a conectividade de rede\n",
            "* `traceroute`: Traça o caminho de uma mensagem de rede\n",
            "* `netstat`: Exibe informações sobre conexões de rede\n",
            "* `ifconfig`: Exibe informações sobre interfaces de rede\n",
            "* `route`: Gerencia a tabela de roteamento\n",
            "\n",
            "**Comandos de Sistema:**\n",
            "\n",
            "* `uname`: Imprime informações sobre o sistema operacional\n",
            "* `hostname`: Imprime o nome do host do sistema\n",
            "* `df`: Exibe informações sobre o espaço em disco\n",
            "* `du`: Estima o uso de espaço em disco\n",
            "* `free`: Exibe informações sobre a memória do sistema\n",
            "* `uptime`: Imprime o tempo de atividade do sistema\n",
            "\n",
            "**Comandos de Utilitários:**\n",
            "\n",
            "* `date`: Imprime ou altera a data e hora do sistema\n",
            "* `cal`: Exibe um calendário\n",
            "* `bc`: Uma calculadora de linha de comando\n",
            "* `sort`: Classifica linhas de texto\n",
            "* `uniq`: Remove linhas duplicadas\n",
            "* `wc`: Conta linhas, palavras e bytes em um arquivo \n",
            "\n",
            "Esperando o prompt: fim\n"
          ]
        }
      ]
    },
    {
      "cell_type": "code",
      "source": [
        "chat"
      ],
      "metadata": {
        "colab": {
          "base_uri": "https://localhost:8080/"
        },
        "id": "UZi8yo05gD3w",
        "outputId": "f57b828d-d7c4-4dde-87e0-29822962a303"
      },
      "execution_count": null,
      "outputs": [
        {
          "output_type": "execute_result",
          "data": {
            "text/plain": [
              "ChatSession(\n",
              "    model=genai.GenerativeModel(\n",
              "        model_name='models/gemini-1.0-pro',\n",
              "        generation_config={'candidate_count': 1, 'temperature': 0.5},\n",
              "        safety_settings={<HarmCategory.HARM_CATEGORY_HARASSMENT: 7>: <HarmBlockThreshold.BLOCK_NONE: 4>, <HarmCategory.HARM_CATEGORY_HATE_SPEECH: 8>: <HarmBlockThreshold.BLOCK_NONE: 4>, <HarmCategory.HARM_CATEGORY_SEXUALLY_EXPLICIT: 9>: <HarmBlockThreshold.BLOCK_NONE: 4>, <HarmCategory.HARM_CATEGORY_DANGEROUS_CONTENT: 10>: <HarmBlockThreshold.BLOCK_NONE: 4>},\n",
              "        tools=None,\n",
              "        system_instruction=None,\n",
              "    ),\n",
              "    history=[glm.Content({'parts': [{'text': 'Quais são os...os Linux CLI?'}], 'role': 'user'}), glm.Content({'parts': [{'text': '**Comandos d...em um arquivo'}], 'role': 'model'})]\n",
              ")"
            ]
          },
          "metadata": {},
          "execution_count": 12
        }
      ]
    },
    {
      "cell_type": "code",
      "source": [
        "chat.history"
      ],
      "metadata": {
        "colab": {
          "base_uri": "https://localhost:8080/"
        },
        "id": "reYw38dLgJ7_",
        "outputId": "9d32f207-88d3-481d-ef9f-66404376f932"
      },
      "execution_count": null,
      "outputs": [
        {
          "output_type": "execute_result",
          "data": {
            "text/plain": [
              "[parts {\n",
              "   text: \"Quais s\\303\\243o os principais comandos Linux CLI?\"\n",
              " }\n",
              " role: \"user\",\n",
              " parts {\n",
              "   text: \"**Comandos de Navega\\303\\247\\303\\243o:**\\n\\n* `cd`: Muda o diret\\303\\263rio atual\\n* `ls`: Lista os arquivos e diret\\303\\263rios no diret\\303\\263rio atual\\n* `pwd`: Imprime o caminho do diret\\303\\263rio de trabalho atual\\n* `mkdir`: Cria um novo diret\\303\\263rio\\n* `rmdir`: Remove um diret\\303\\263rio vazio\\n* `mv`: Move ou renomeia arquivos ou diret\\303\\263rios\\n* `cp`: Copia arquivos ou diret\\303\\263rios\\n* `rm`: Remove arquivos ou diret\\303\\263rios\\n\\n**Comandos de Gerenciamento de Arquivos:**\\n\\n* `cat`: Concatena e imprime o conte\\303\\272do de um arquivo\\n* `head`: Imprime as primeiras linhas de um arquivo\\n* `tail`: Imprime as \\303\\272ltimas linhas de um arquivo\\n* `grep`: Pesquisa um padr\\303\\243o em um arquivo\\n* `sed`: Realiza opera\\303\\247\\303\\265es de pesquisa e substitui\\303\\247\\303\\243o em arquivos\\n* `awk`: Analisa e processa dados em arquivos\\n\\n**Comandos de Processo:**\\n\\n* `ps`: Lista os processos em execu\\303\\247\\303\\243o\\n* `kill`: Termina um processo\\n* `top`: Monitora os processos em execu\\303\\247\\303\\243o\\n* `nice`: Altera a prioridade de um processo\\n* `renice`: Altera a prioridade de um processo em execu\\303\\247\\303\\243o\\n* `bg`: Envia um processo para o fundo\\n* `fg`: Traz um processo em segundo plano para o primeiro plano\\n\\n**Comandos de Rede:**\\n\\n* `ping`: Testa a conectividade de rede\\n* `traceroute`: Tra\\303\\247a o caminho de uma mensagem de rede\\n* `netstat`: Exibe informa\\303\\247\\303\\265es sobre conex\\303\\265es de rede\\n* `ifconfig`: Exibe informa\\303\\247\\303\\265es sobre interfaces de rede\\n* `route`: Gerencia a tabela de roteamento\\n\\n**Comandos de Sistema:**\\n\\n* `uname`: Imprime informa\\303\\247\\303\\265es sobre o sistema operacional\\n* `hostname`: Imprime o nome do host do sistema\\n* `df`: Exibe informa\\303\\247\\303\\265es sobre o espa\\303\\247o em disco\\n* `du`: Estima o uso de espa\\303\\247o em disco\\n* `free`: Exibe informa\\303\\247\\303\\265es sobre a mem\\303\\263ria do sistema\\n* `uptime`: Imprime o tempo de atividade do sistema\\n\\n**Comandos de Utilit\\303\\241rios:**\\n\\n* `date`: Imprime ou altera a data e hora do sistema\\n* `cal`: Exibe um calend\\303\\241rio\\n* `bc`: Uma calculadora de linha de comando\\n* `sort`: Classifica linhas de texto\\n* `uniq`: Remove linhas duplicadas\\n* `wc`: Conta linhas, palavras e bytes em um arquivo\"\n",
              " }\n",
              " role: \"model\"]"
            ]
          },
          "metadata": {},
          "execution_count": 13
        }
      ]
    },
    {
      "cell_type": "code",
      "source": [
        "#Melhorando a visualização\n",
        "#Código disponível em https://ai.google.dev/tutorials/python_quickstart#import_packages\n",
        "import textwrap\n",
        "from IPython.display import display\n",
        "from IPython.display import Markdown\n",
        "\n",
        "def to_markdown(text):\n",
        "  text = text.replace('•', '  *')\n",
        "  return Markdown(textwrap.indent(text, '> ', predicate=lambda _: True))\n",
        "\n",
        "#Imprimindo o histórico\n",
        "for message in chat.history:\n",
        "  display(to_markdown(f'**{message.role}**: {message.parts[0].text}'))\n",
        "  print('-------------------------------------------')"
      ],
      "metadata": {
        "colab": {
          "base_uri": "https://localhost:8080/",
          "height": 955
        },
        "id": "Zqqay8gzexzB",
        "outputId": "9f2619d7-5433-4f16-864c-59ee6ea0a1e1"
      },
      "execution_count": null,
      "outputs": [
        {
          "output_type": "display_data",
          "data": {
            "text/plain": [
              "<IPython.core.display.Markdown object>"
            ],
            "text/markdown": "> **user**: Quais são os principais comandos Linux CLI?"
          },
          "metadata": {}
        },
        {
          "output_type": "stream",
          "name": "stdout",
          "text": [
            "-------------------------------------------\n"
          ]
        },
        {
          "output_type": "display_data",
          "data": {
            "text/plain": [
              "<IPython.core.display.Markdown object>"
            ],
            "text/markdown": "> **model**: **Comandos de Navegação:**\n> \n> * `cd`: Muda o diretório atual\n> * `ls`: Lista os arquivos e diretórios no diretório atual\n> * `pwd`: Imprime o caminho do diretório de trabalho atual\n> * `mkdir`: Cria um novo diretório\n> * `rmdir`: Remove um diretório vazio\n> * `mv`: Move ou renomeia arquivos ou diretórios\n> * `cp`: Copia arquivos ou diretórios\n> * `rm`: Remove arquivos ou diretórios\n> \n> **Comandos de Gerenciamento de Arquivos:**\n> \n> * `cat`: Concatena e imprime o conteúdo de um arquivo\n> * `head`: Imprime as primeiras linhas de um arquivo\n> * `tail`: Imprime as últimas linhas de um arquivo\n> * `grep`: Pesquisa um padrão em um arquivo\n> * `sed`: Realiza operações de pesquisa e substituição em arquivos\n> * `awk`: Analisa e processa dados em arquivos\n> \n> **Comandos de Processo:**\n> \n> * `ps`: Lista os processos em execução\n> * `kill`: Termina um processo\n> * `top`: Monitora os processos em execução\n> * `nice`: Altera a prioridade de um processo\n> * `renice`: Altera a prioridade de um processo em execução\n> * `bg`: Envia um processo para o fundo\n> * `fg`: Traz um processo em segundo plano para o primeiro plano\n> \n> **Comandos de Rede:**\n> \n> * `ping`: Testa a conectividade de rede\n> * `traceroute`: Traça o caminho de uma mensagem de rede\n> * `netstat`: Exibe informações sobre conexões de rede\n> * `ifconfig`: Exibe informações sobre interfaces de rede\n> * `route`: Gerencia a tabela de roteamento\n> \n> **Comandos de Sistema:**\n> \n> * `uname`: Imprime informações sobre o sistema operacional\n> * `hostname`: Imprime o nome do host do sistema\n> * `df`: Exibe informações sobre o espaço em disco\n> * `du`: Estima o uso de espaço em disco\n> * `free`: Exibe informações sobre a memória do sistema\n> * `uptime`: Imprime o tempo de atividade do sistema\n> \n> **Comandos de Utilitários:**\n> \n> * `date`: Imprime ou altera a data e hora do sistema\n> * `cal`: Exibe um calendário\n> * `bc`: Uma calculadora de linha de comando\n> * `sort`: Classifica linhas de texto\n> * `uniq`: Remove linhas duplicadas\n> * `wc`: Conta linhas, palavras e bytes em um arquivo"
          },
          "metadata": {}
        },
        {
          "output_type": "stream",
          "name": "stdout",
          "text": [
            "-------------------------------------------\n"
          ]
        }
      ]
    }
  ]
}